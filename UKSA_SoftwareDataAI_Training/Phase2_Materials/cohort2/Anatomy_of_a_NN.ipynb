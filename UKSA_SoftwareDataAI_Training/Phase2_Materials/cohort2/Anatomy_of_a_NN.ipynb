{
 "cells": [
  {
   "cell_type": "markdown",
   "id": "4b9b5a09-3f5e-4353-a5c0-19f8d4c616fc",
   "metadata": {},
   "source": [
    "This code has been produced as a teaching resource for the UKSA space software, data and AI course run by the Space South Central Universities.\n",
    "\n",
    "Contributors to this code includes: B. Floyd; S. Youles; B. Canning"
   ]
  },
  {
   "cell_type": "markdown",
   "id": "ca0a361c-24ec-4433-9146-9380f8f929be",
   "metadata": {
    "jp-MarkdownHeadingCollapsed": true
   },
   "source": [
    "### Learning Outcome\n",
    "<div class=\"alert alert-block alert-info\"> \n",
    "<b>NOTE</b> In this notebook we will aim to understand how to define a simple model and the training loop for a Neural Network.  We will think about the data again at a later stage. \n",
    "Specifically we will:\n",
    "    <li>Learn the components of a NN</li>\n",
    "    <li>Learn the steps in training a model</li>\n",
    "    <li>Learn how to choose the GPU or CPU for training</li>\n",
    "</div>"
   ]
  },
  {
   "cell_type": "markdown",
   "id": "c8899ed8-bb9a-4542-a3cb-f3d46f7dae21",
   "metadata": {},
   "source": [
    "## What is AI/ML and the theory of Neural Networks"
   ]
  },
  {
   "cell_type": "markdown",
   "id": "a78c3e69-fa6c-4c57-9966-477ad92a28f0",
   "metadata": {},
   "source": [
    "**TASK:**\n",
    "Below we will see how to build a NN model in PyTorch. Your task will be to build your own PyTorch model for thr fashionMNIST dataset."
   ]
  },
  {
   "cell_type": "markdown",
   "id": "7506ce0d-1484-4f3f-bc72-3fa1da09bcdf",
   "metadata": {},
   "source": [
    "### Artificial Intelligence, Machine Learning, and Neural Networks"
   ]
  },
  {
   "cell_type": "markdown",
   "id": "a5f21feaab858bff",
   "metadata": {
    "id": "a5f21feaab858bff"
   },
   "source": [
    "Artificial intelligence (AI) is the field of research that involves methods to allow a machine to take an input and make decisions based on that input. One of the methods used in this decision-making process is called \"machine learning (ML)\" where statistical models are used to process input data and perform tasks with this data without explict instructions. Neural networks (NN) are one such statistical model inspired by biological networks of neurons. Large scale, or 'deep', neural networks are referred to as 'deep learning (DL)'. \n",
    "\n",
    "![AI image](AI_ML_NN_DL.png)"
   ]
  },
  {
   "cell_type": "markdown",
   "id": "6c3dc478-70da-41d9-919f-a2c83d1ed4df",
   "metadata": {},
   "source": [
    "### Basic ideas behind Neural Networks\n"
   ]
  },
  {
   "cell_type": "markdown",
   "id": "731b319a-afaa-4a64-b282-661b7e6b74c1",
   "metadata": {},
   "source": [
    "In a neural network, a neuron can be thought of a container that holds a number (often between `0` and `1`) which indicates the strength of the \"activation\" of the neuron. A better description would be that neurons are functions that map inputs to a value indicating importance.\n",
    "\n",
    "The neurons are connected with each other by weights that relate the association of neurons in one layer to neurons in another layer. \n",
    "\n",
    "A particular neuron's activation in the network is related to the wighted sum of all the activations of the neurons that connect to it proportional to the weight value connecting the neurons, $ w_{1} a_{1} + w_{2} a_{2} + \\cdots + w_{n} a_{n} $. We also apply a function, called an 'actvation function' to the weighted sum to allow for non-liniarities (and sometimes to map between `0` and `1`). A commonly used activation function is a rectified linear unit, or `ReLU` for short. \n",
    "\n",
    "Additionally, if we want the activation of our neuron to be biased — for example, if we wanted the neuron to only meaningfully activate if the weighted sum is $> 10$—then we can add a bias term, $b_{i}$ to our weighted sum before applying our ReLU function.\n",
    "$$a_{0}^{(1)} = \\sigma\\left(\\sum\\limits_{j=0}^{n} w_{0, j} a_{j}^{(0)} - b_0\\right)$$\n",
    "This can all actually just be organized as a matrix operation,\n",
    "$$ \\begin{bmatrix} a_{0}^{(1)} \\\\ a_{1}^{(1)} \\\\ \\vdots \\\\ a_{n}^{(1)} \\end{bmatrix} = \\sigma\\left(\\begin{bmatrix} w_{0,0} & w_{0,1} & \\cdots & w_{0,n} \\\\ w_{1,0} & w_{1,1} & \\cdots & w_{1,n} \\\\ \\vdots & \\vdots & \\ddots & \\vdots \\\\ w_{k,0} & w_{k,1} & \\cdots & w_{k,n} \\end{bmatrix} \\begin{bmatrix} a_{0}^{(0)} \\\\ a_{1}^{(0)} \\\\ \\vdots \\\\ a_{n}^{(0)} \\end{bmatrix} + \\begin{bmatrix} b_{0} \\\\ b_{1} \\\\ \\vdots \\\\ b_{n} \\end{bmatrix}\\right)$$\n",
    "Each layer in out network can be thought of as a series of matrix operations where our goal is to tune the values of the matrix elements in order to achieve a desired output based on some input data. This \"training\" process is where the neural network \"learns\" what values each matrix in the system needs to have in order to give the correct output.\n",
    "\n",
    "When we train our network we randomly initilise the neuron weights and biases and guess at the answer - we then compare this answer to the 'truth' and 'backpropgate' our findings to update the weights and biases in the direction we belive will be a better guess. We run our model forward once more and compare the results again. This iteration goes on until we have reached our defined stopping criteria. \n",
    "\n",
    "The gifs below show this iterative process from a network and graphical view. "
   ]
  },
  {
   "cell_type": "markdown",
   "id": "cb57388b-4006-41c2-9a4f-a819ef498b10",
   "metadata": {},
   "source": [
    "<img src=\"Gif_1_crop.gif\" width=500>\n",
    "<img src=\"Gif_2_crop.gif\" width=500>"
   ]
  },
  {
   "cell_type": "markdown",
   "id": "79fbdc54-3c91-4d67-a9c5-75b8919eedeb",
   "metadata": {},
   "source": [
    "### Machine Learning in Python"
   ]
  },
  {
   "cell_type": "markdown",
   "id": "05e9d172-1c77-415d-88f0-795811ac061e",
   "metadata": {},
   "source": [
    "There are many different libraries in the Python ecosystem that provide machine learning methods. Some of the most popular are:\n",
    "- [Scikit-learn](https://scikit-learn.org/stable/index.html)\n",
    "- [TensorFlow](https://www.tensorflow.org/)\n",
    "- [PyTorch](https://pytorch.org/)\n",
    "\n",
    "We will also use several common libraries to help with managing or visualizing the data:\n",
    "- [Numpy](https://numpy.org/)\n",
    "- [Scipy](https://scipy.org/)\n",
    "- [Matplotlib](https://matplotlib.org/)\n",
    "- [Pandas](https://pandas.pydata.org/)\n",
    "\n",
    "While all the machine learning libraries can perform many of the same tasks, some libraries have strengths in certain tasks over each other. It's always a good idea to explore the different options for your use case to determine the right tool for the job.\n",
    "\n",
    "Sckit-learn is a great entry point into machine learning, and it is a community-managed project based on Numpy and Scipy, also community-managed projects. It provides methods for many supervised and unsupervised learning algorithms with a simple API. We will explore this library in this notebook and later in the course as well.\n",
    "\n",
    "TensorFlow is a powerful library developed and maintained by Google designed to work well on deep neural networks which have applications in a variety of complicated tasks. It uses tensors—multidimensional arrays similar to vectors and matrices—to represent the data and network.\n",
    "\n",
    "PyTorch is one of the two most popular machine learning libraries (along with TensorFlow) in use today. It was originally developed by Meta but is now maintained as part of the Linux Foundation. Like TensorFlow, it operates on tensors and is useful for running deep neural networks on a variety of hardware setups. We will also look at this library in this notebook and throughout the course."
   ]
  },
  {
   "cell_type": "markdown",
   "id": "3dc2a84312eeb321",
   "metadata": {
    "id": "3dc2a84312eeb321"
   },
   "source": [
    "## AI/ML tools in Python\n",
    "In this tutorial, we are going to explore how to build a simple neural network to try to identify some handwritten digits using PyTorch\n",
    "\n",
    "Before we begin, we need to import a few libraries that will help us throughout our examples."
   ]
  },
  {
   "cell_type": "code",
   "execution_count": 1,
   "id": "4d9002d2-e174-41b2-affe-b51bc0a9017b",
   "metadata": {},
   "outputs": [],
   "source": [
    "#!pip --quiet install torchvision"
   ]
  },
  {
   "cell_type": "code",
   "execution_count": 1,
   "id": "3413cd644e303726",
   "metadata": {
    "ExecuteTime": {
     "end_time": "2024-09-27T15:49:05.058039Z",
     "start_time": "2024-09-27T15:49:03.770035Z"
    },
    "id": "3413cd644e303726"
   },
   "outputs": [],
   "source": [
    "import matplotlib.pyplot as plt  # This library allows us to create and display plots which we can use to explore our data\n",
    "import numpy as np  # This library helps with a variety of mathematical and array tasks\n",
    "from torchvision import datasets  # This library is part of the PyTorch project but is useful in general for us to get our dataset\n",
    "from torchvision.transforms import ToTensor"
   ]
  },
  {
   "cell_type": "markdown",
   "id": "5bf00d60cdabe317",
   "metadata": {
    "id": "5bf00d60cdabe317"
   },
   "source": [
    "### Data Exploration\n",
    "Our training dataset is going to be the [MNIST database of handwritten digits](https://yann.lecun.com/exdb/mnist/).\n",
    "\n",
    "<div class=\"alert alert-block alert-warning\">\n",
    "\n",
    "In these examples, we are going to use simple neural networks to perform image classification. In practice, you will likely want to use more sophisticated techniques like [convolutional neural networks](https://en.wikipedia.org/wiki/Convolutional_neural_network) to do this type of task. However, in this notebook we are more interested in the anatomy of a NN and how to build one in python.\n",
    "\n",
    "</div>\n",
    "\n",
    "First we will import this well known datset using PyTorch. Documentation for the avalible PyTorch datasets are here: https://pytorch.org/vision/master/datasets.html"
   ]
  },
  {
   "cell_type": "code",
   "execution_count": 2,
   "id": "f4586f174fe49723",
   "metadata": {
    "ExecuteTime": {
     "end_time": "2024-09-27T15:49:05.094094Z",
     "start_time": "2024-09-27T15:49:05.065587Z"
    },
    "colab": {
     "base_uri": "https://localhost:8080/"
    },
    "executionInfo": {
     "elapsed": 6560,
     "status": "ok",
     "timestamp": 1727770548152,
     "user": {
      "displayName": "Becky Canning",
      "userId": "17585554670383182468"
     },
     "user_tz": -60
    },
    "id": "f4586f174fe49723",
    "outputId": "9a24140f-eb92-486f-a311-65c8f35ad99c"
   },
   "outputs": [
    {
     "name": "stdout",
     "output_type": "stream",
     "text": [
      "Downloading http://yann.lecun.com/exdb/mnist/train-images-idx3-ubyte.gz\n",
      "Failed to download (trying next):\n",
      "<urlopen error [Errno 111] Connection refused>\n",
      "\n",
      "Downloading https://ossci-datasets.s3.amazonaws.com/mnist/train-images-idx3-ubyte.gz\n",
      "Downloading https://ossci-datasets.s3.amazonaws.com/mnist/train-images-idx3-ubyte.gz to ./Resources/MNIST/raw/train-images-idx3-ubyte.gz\n"
     ]
    },
    {
     "name": "stderr",
     "output_type": "stream",
     "text": [
      "100%|██████████| 9912422/9912422 [00:01<00:00, 8673016.95it/s] \n"
     ]
    },
    {
     "name": "stdout",
     "output_type": "stream",
     "text": [
      "Extracting ./Resources/MNIST/raw/train-images-idx3-ubyte.gz to ./Resources/MNIST/raw\n",
      "\n",
      "Downloading http://yann.lecun.com/exdb/mnist/train-labels-idx1-ubyte.gz\n",
      "Failed to download (trying next):\n",
      "<urlopen error [Errno 111] Connection refused>\n",
      "\n",
      "Downloading https://ossci-datasets.s3.amazonaws.com/mnist/train-labels-idx1-ubyte.gz\n",
      "Downloading https://ossci-datasets.s3.amazonaws.com/mnist/train-labels-idx1-ubyte.gz to ./Resources/MNIST/raw/train-labels-idx1-ubyte.gz\n"
     ]
    },
    {
     "name": "stderr",
     "output_type": "stream",
     "text": [
      "100%|██████████| 28881/28881 [00:00<00:00, 361781.60it/s]\n"
     ]
    },
    {
     "name": "stdout",
     "output_type": "stream",
     "text": [
      "Extracting ./Resources/MNIST/raw/train-labels-idx1-ubyte.gz to ./Resources/MNIST/raw\n",
      "\n",
      "Downloading http://yann.lecun.com/exdb/mnist/t10k-images-idx3-ubyte.gz\n",
      "Failed to download (trying next):\n",
      "<urlopen error [Errno 111] Connection refused>\n",
      "\n",
      "Downloading https://ossci-datasets.s3.amazonaws.com/mnist/t10k-images-idx3-ubyte.gz\n",
      "Downloading https://ossci-datasets.s3.amazonaws.com/mnist/t10k-images-idx3-ubyte.gz to ./Resources/MNIST/raw/t10k-images-idx3-ubyte.gz\n"
     ]
    },
    {
     "name": "stderr",
     "output_type": "stream",
     "text": [
      "100%|██████████| 1648877/1648877 [00:00<00:00, 3421648.85it/s]\n"
     ]
    },
    {
     "name": "stdout",
     "output_type": "stream",
     "text": [
      "Extracting ./Resources/MNIST/raw/t10k-images-idx3-ubyte.gz to ./Resources/MNIST/raw\n",
      "\n",
      "Downloading http://yann.lecun.com/exdb/mnist/t10k-labels-idx1-ubyte.gz\n",
      "Failed to download (trying next):\n",
      "<urlopen error [Errno 111] Connection refused>\n",
      "\n",
      "Downloading https://ossci-datasets.s3.amazonaws.com/mnist/t10k-labels-idx1-ubyte.gz\n",
      "Downloading https://ossci-datasets.s3.amazonaws.com/mnist/t10k-labels-idx1-ubyte.gz to ./Resources/MNIST/raw/t10k-labels-idx1-ubyte.gz\n"
     ]
    },
    {
     "name": "stderr",
     "output_type": "stream",
     "text": [
      "100%|██████████| 4542/4542 [00:00<00:00, 26718834.18it/s]"
     ]
    },
    {
     "name": "stdout",
     "output_type": "stream",
     "text": [
      "Extracting ./Resources/MNIST/raw/t10k-labels-idx1-ubyte.gz to ./Resources/MNIST/raw\n",
      "\n"
     ]
    },
    {
     "name": "stderr",
     "output_type": "stream",
     "text": [
      "\n"
     ]
    }
   ],
   "source": [
    "# This will download and create a dataset from the training set using a PyTorch module.\n",
    "mnist_training = datasets.MNIST(root='./Resources', train=True, download=True, transform=ToTensor())\n",
    "\n",
    "# We will later use this dataset to test our trained neural network with.\n",
    "mnist_testing = datasets.MNIST(root='./Resources', train=False, download=True, transform=ToTensor())"
   ]
  },
  {
   "cell_type": "markdown",
   "id": "a03b79c5d32a62a5",
   "metadata": {
    "id": "a03b79c5d32a62a5"
   },
   "source": [
    "We should always do some data exploration so that we know what our data looks like."
   ]
  },
  {
   "cell_type": "code",
   "execution_count": 3,
   "id": "f5488878654594e4",
   "metadata": {
    "ExecuteTime": {
     "end_time": "2024-09-27T15:49:05.177155Z",
     "start_time": "2024-09-27T15:49:05.173945Z"
    },
    "colab": {
     "base_uri": "https://localhost:8080/"
    },
    "executionInfo": {
     "elapsed": 265,
     "status": "ok",
     "timestamp": 1727770548409,
     "user": {
      "displayName": "Becky Canning",
      "userId": "17585554670383182468"
     },
     "user_tz": -60
    },
    "id": "f5488878654594e4",
    "outputId": "79739386-5978-4fcd-d969-5aea6af6b077"
   },
   "outputs": [
    {
     "data": {
      "text/plain": [
       "Dataset MNIST\n",
       "    Number of datapoints: 60000\n",
       "    Root location: ./Resources\n",
       "    Split: Train\n",
       "    StandardTransform\n",
       "Transform: ToTensor()"
      ]
     },
     "execution_count": 3,
     "metadata": {},
     "output_type": "execute_result"
    }
   ],
   "source": [
    "mnist_training"
   ]
  },
  {
   "cell_type": "markdown",
   "id": "b12737e7d62df36c",
   "metadata": {
    "id": "b12737e7d62df36c"
   },
   "source": [
    "Let's display the training data and the associated labels."
   ]
  },
  {
   "cell_type": "code",
   "execution_count": 4,
   "id": "628777cbb37291e0",
   "metadata": {
    "ExecuteTime": {
     "end_time": "2024-09-27T15:49:05.333147Z",
     "start_time": "2024-09-27T15:49:05.195558Z"
    },
    "colab": {
     "base_uri": "https://localhost:8080/",
     "height": 167
    },
    "executionInfo": {
     "elapsed": 3586,
     "status": "ok",
     "timestamp": 1727770551993,
     "user": {
      "displayName": "Becky Canning",
      "userId": "17585554670383182468"
     },
     "user_tz": -60
    },
    "id": "628777cbb37291e0",
    "outputId": "cc22ddcc-0e9b-4df1-8de7-0b3584c01be3"
   },
   "outputs": [
    {
     "data": {
      "image/png": "[encoded data removed]",
      "text/plain": [
       "<Figure size 2000x300 with 10 Axes>"
      ]
     },
     "metadata": {},
     "output_type": "display_data"
    }
   ],
   "source": [
    "# We need to cast the data as Numpy arrays to use with Scikit-learn\n",
    "training_images = mnist_training.data.numpy()\n",
    "training_labels = mnist_training.targets.numpy()\n",
    "\n",
    "# We will use the testing dataset later to see how our networks perform\n",
    "testing_images = mnist_testing.data.numpy()\n",
    "testing_labels = mnist_testing.targets.numpy()\n",
    "\n",
    "fig, axes = plt.subplots(ncols=10, figsize=(20, 3))\n",
    "for ax, image, label in zip(axes.flatten(), training_images, training_labels):\n",
    "    ax.set_axis_off()\n",
    "    ax.imshow(image, cmap='Greys')\n",
    "    ax.set(title=f'Training label: {label}')\n",
    "plt.show()"
   ]
  },
  {
   "cell_type": "markdown",
   "id": "338ba2ccd87b08c1",
   "metadata": {
    "id": "338ba2ccd87b08c1"
   },
   "source": [
    "We also should look at the frequencies of the training labels to assess how potentially biased the data we are going to train the networks on will be."
   ]
  },
  {
   "cell_type": "code",
   "execution_count": 5,
   "id": "b086ca0ffd2d723d",
   "metadata": {
    "ExecuteTime": {
     "end_time": "2024-09-27T15:49:05.439011Z",
     "start_time": "2024-09-27T15:49:05.341965Z"
    },
    "colab": {
     "base_uri": "https://localhost:8080/",
     "height": 472
    },
    "executionInfo": {
     "elapsed": 1873,
     "status": "ok",
     "timestamp": 1727770553862,
     "user": {
      "displayName": "Becky Canning",
      "userId": "17585554670383182468"
     },
     "user_tz": -60
    },
    "id": "b086ca0ffd2d723d",
    "outputId": "dfb198a0-991a-47ac-bd04-277b4bf94e3b"
   },
   "outputs": [
    {
     "data": {
      "image/png": "[encoded data removed]",
      "text/plain": [
       "<Figure size 640x480 with 1 Axes>"
      ]
     },
     "metadata": {},
     "output_type": "display_data"
    }
   ],
   "source": [
    "fig, ax = plt.subplots()\n",
    "ax.hist(training_labels, bins=np.arange(11), align='left', edgecolor='black')\n",
    "ax.set(title='Frequency of Training Labels', xlabel='Label', ylabel='Frequency', xlim=[-0.5, 9.5])\n",
    "ax.xaxis.set_major_locator(plt.MaxNLocator(integer=True))\n",
    "plt.show()"
   ]
  },
  {
   "cell_type": "markdown",
   "id": "gfjbyEk3QRlg",
   "metadata": {
    "id": "gfjbyEk3QRlg"
   },
   "source": [
    "The above was using PyTorch - PyTorch is not the only place we could have gotten our datsets - the most common benchmarking datasets, and many of datasets and pretrained models are avlible through most packages. Forexample the sklearn version would have been:"
   ]
  },
  {
   "cell_type": "code",
   "execution_count": 6,
   "id": "9ApJnd52QQOM",
   "metadata": {
    "colab": {
     "base_uri": "https://localhost:8080/",
     "height": 167
    },
    "executionInfo": {
     "elapsed": 6098,
     "status": "ok",
     "timestamp": 1727770559958,
     "user": {
      "displayName": "Becky Canning",
      "userId": "17585554670383182468"
     },
     "user_tz": -60
    },
    "id": "9ApJnd52QQOM",
    "outputId": "c5c3c1e3-b429-4bde-aa15-d96e060d28b6"
   },
   "outputs": [
    {
     "data": {
      "image/png": "[encoded data removed]",
      "text/plain": [
       "<Figure size 2000x300 with 10 Axes>"
      ]
     },
     "metadata": {},
     "output_type": "display_data"
    }
   ],
   "source": [
    "# Import datasets, classifiers and performance metrics\n",
    "from sklearn import datasets as sk_datasets\n",
    "sk_digits = sk_datasets.load_digits()\n",
    "fig, axes = plt.subplots(ncols=10, figsize=(20, 3))\n",
    "for ax, image, label in zip(axes.flatten(), sk_digits.images, sk_digits.target):\n",
    "    ax.set_axis_off()\n",
    "    ax.imshow(image, cmap='Greys')\n",
    "    ax.set(title=f'Training label: {label}')\n",
    "plt.show()"
   ]
  },
  {
   "cell_type": "markdown",
   "id": "dda10882-0f2a-46b9-acbf-80fc6ecda8a1",
   "metadata": {},
   "source": [
    "## NN in PyTorch"
   ]
  },
  {
   "cell_type": "markdown",
   "id": "111064804c7417d5",
   "metadata": {
    "id": "111064804c7417d5"
   },
   "source": [
    "Now using PyTorch, we will try to build a very simplistic neural network with 5 hidden layers of 16 neurons each. We will also specify that we are using a stochastic gradient descent method ('adam', the adaptive moment estimation) for our training of the network, we will use the rectified linear unit (ReLU) activation function that renormalizes the input for a neuron to specify the activity on the neuron. We will carry out 10,000 training iterations, and shuffle the data on each training epoch.\n",
    "\n",
    "PyTorch provides an advanced API, allowing for us to target specific hardware to run our training on (so we can move toward deep learning with GPUs).  Moreover, instead of simply providing pre-constructed network options, PyTorch encourages us to define our own model explicitly. This allows us to have some finer control on how exactly we want to set up our network architecture, and it is a place to start when learning ML techniques as we define all the steps in our model and in its training. "
   ]
  },
  {
   "cell_type": "code",
   "execution_count": 7,
   "id": "36bea895951b3d4d",
   "metadata": {
    "ExecuteTime": {
     "end_time": "2024-09-27T15:49:29.133131Z",
     "start_time": "2024-09-27T15:49:29.131343Z"
    },
    "id": "36bea895951b3d4d"
   },
   "outputs": [],
   "source": [
    "import torch\n",
    "# We are importing two PyTorch submodules, `nn` provides the neural network methods to define the neural network while `optim` provides the optimizer methods which we will use to define how our training will be done.\n",
    "from torch import nn, optim\n",
    "# PyTorch wraps its data into an iterable that allows us to break up our data into \"minibatches\" as we are training and allows multiprocessing to be done easily.\n",
    "from torch.utils.data import DataLoader"
   ]
  },
  {
   "cell_type": "markdown",
   "id": "90ae28efe9120978",
   "metadata": {
    "id": "90ae28efe9120978"
   },
   "source": [
    "pyTorch uses a `DataLoader` class to wrap an iterable around the dataset. If we were providing our own dataset, we would use the `Dataset` class to store the samples first. However, we won't worry too much about these steps right now. "
   ]
  },
  {
   "cell_type": "code",
   "execution_count": 8,
   "id": "c8c6624dc15aec3e",
   "metadata": {
    "ExecuteTime": {
     "end_time": "2024-09-27T15:49:29.143701Z",
     "start_time": "2024-09-27T15:49:29.141350Z"
    },
    "id": "c8c6624dc15aec3e"
   },
   "outputs": [],
   "source": [
    "train_loader = DataLoader(mnist_training, batch_size=64, shuffle=True)\n",
    "test_loader = DataLoader(mnist_testing, batch_size=64, shuffle=True)"
   ]
  },
  {
   "cell_type": "markdown",
   "id": "7c90a0d571435dee",
   "metadata": {
    "id": "7c90a0d571435dee"
   },
   "source": [
    "With PyTorch, we can directly target the hardware we have available so that we can run our network very efficiently."
   ]
  },
  {
   "cell_type": "code",
   "execution_count": 9,
   "id": "a3677b634f88beb6",
   "metadata": {
    "ExecuteTime": {
     "end_time": "2024-09-27T15:49:29.165487Z",
     "start_time": "2024-09-27T15:49:29.151515Z"
    },
    "colab": {
     "base_uri": "https://localhost:8080/"
    },
    "executionInfo": {
     "elapsed": 20,
     "status": "ok",
     "timestamp": 1727770831705,
     "user": {
      "displayName": "Becky Canning",
      "userId": "17585554670383182468"
     },
     "user_tz": -60
    },
    "id": "a3677b634f88beb6",
    "outputId": "5a8c5a92-4b06-45cd-90e5-660fd2369bbb"
   },
   "outputs": [
    {
     "name": "stdout",
     "output_type": "stream",
     "text": [
      "Using device = 'cuda'\n"
     ]
    }
   ],
   "source": [
    "device = (\n",
    "    'cuda' if torch.cuda.is_available()\n",
    "    else 'mps'\n",
    "    if torch.backends.mps.is_available()\n",
    "    else 'cpu')\n",
    "print(f'Using {device = }')"
   ]
  },
  {
   "cell_type": "markdown",
   "id": "3f3582f3-9b92-44f1-b325-8b547240e8d6",
   "metadata": {},
   "source": [
    "### 1. A first NN model"
   ]
  },
  {
   "cell_type": "markdown",
   "id": "d02c991a-9202-4a6c-a7b6-313319bc5621",
   "metadata": {},
   "source": [
    "Now we can get on to the part that we wish to learn - building and training our first NN model. \n",
    "\n",
    "To define a NN model we need to define:\n",
    "\n",
    "1. Its building blocks\n",
    "2. How to traverse the network\n",
    "\n",
    "We will start with the simplest 'brute force' method of writing out our network."
   ]
  },
  {
   "cell_type": "markdown",
   "id": "3b1dca82886aa20e",
   "metadata": {
    "id": "3b1dca82886aa20e"
   },
   "source": [
    "PyTorch allows us to build the neural network layer by layer. Commonly (though it is not strictly required) this is done by defining a Python class. Here we will define:\n",
    "\n",
    "1. An flattened input layer\n",
    "2. 5 hidden layers of 16 neurons each\n",
    "3. A ReLU normalization in between each of the linear layers"
   ]
  },
  {
   "cell_type": "code",
   "execution_count": 10,
   "id": "24bf3668-b9c2-4a25-bd79-4fd64013cda0",
   "metadata": {},
   "outputs": [],
   "source": [
    "class MyFirstNeuralNet(nn.Module):\n",
    "    \"\"\"\n",
    "    Our First NN - a straightforward approach.\n",
    "    \"\"\"\n",
    "\n",
    "    def __init__(self):\n",
    "        \"\"\"This method defines the layers that make up our NN.\n",
    "        \"\"\"\n",
    "        # super()__init__() Gives the torch.nn.Module class the ability to \n",
    "        # call our function\n",
    "        super(MyFirstNeuralNet, self).__init__()\n",
    "\n",
    "        # First, we will flatten our input data.\n",
    "        self.flatten = nn.Flatten()\n",
    "\n",
    "        self.linear1 = nn.Linear(784, 16) # This is our input layer\n",
    "        self.activation = nn.ReLU() # our relu activation function\n",
    "        self.linear2 = nn.Linear(16, 16) # our 16 neuron layers\n",
    "        self.linear3 = nn.Linear(16, 10) # our output layer for numbers 0-9\n",
    "\n",
    "    def forward(self, x):\n",
    "        \"\"\"This method does the forward pass operation in the network.\"\"\"\n",
    "        x = self.flatten(x)\n",
    "        x = self.linear1(x)\n",
    "        x = self.activation(x)\n",
    "        x = self.linear2(x)\n",
    "        x = self.activation(x)\n",
    "        x = self.linear2(x)\n",
    "        x = self.activation(x)\n",
    "        x = self.linear2(x)\n",
    "        x = self.activation(x)\n",
    "        x = self.linear2(x)\n",
    "        x = self.activation(x)\n",
    "        x = self.linear3(x)        \n",
    "        return x"
   ]
  },
  {
   "cell_type": "markdown",
   "id": "8995cec6f1f4fa0",
   "metadata": {
    "id": "8995cec6f1f4fa0"
   },
   "source": [
    "That is all we need for our model.  \n",
    "\n",
    "Now it has been defined, we can initialize it and print it out."
   ]
  },
  {
   "cell_type": "code",
   "execution_count": 11,
   "id": "bc3a0fc5e00a22b3",
   "metadata": {
    "ExecuteTime": {
     "end_time": "2024-09-27T15:49:29.198002Z",
     "start_time": "2024-09-27T15:49:29.183087Z"
    },
    "colab": {
     "base_uri": "https://localhost:8080/"
    },
    "executionInfo": {
     "elapsed": 17,
     "status": "ok",
     "timestamp": 1727770831706,
     "user": {
      "displayName": "Becky Canning",
      "userId": "17585554670383182468"
     },
     "user_tz": -60
    },
    "id": "bc3a0fc5e00a22b3",
    "outputId": "a37272bd-178a-4186-f3f8-29fb4a9143a5"
   },
   "outputs": [
    {
     "name": "stdout",
     "output_type": "stream",
     "text": [
      "MyFirstNeuralNet(\n",
      "  (flatten): Flatten(start_dim=1, end_dim=-1)\n",
      "  (linear1): Linear(in_features=784, out_features=16, bias=True)\n",
      "  (activation): ReLU()\n",
      "  (linear2): Linear(in_features=16, out_features=16, bias=True)\n",
      "  (linear3): Linear(in_features=16, out_features=10, bias=True)\n",
      ")\n"
     ]
    }
   ],
   "source": [
    "model = MyFirstNeuralNet().to(device)\n",
    "print(model)"
   ]
  },
  {
   "cell_type": "markdown",
   "id": "0b5ae9bc-03bd-4ba4-901e-c5784a4969ff",
   "metadata": {},
   "source": [
    "### 2. How to train your dragon"
   ]
  },
  {
   "cell_type": "markdown",
   "id": "998c5ede-d697-47f8-8dfe-8e29ec6e3797",
   "metadata": {},
   "source": [
    "The steps in training are formulaic:\n",
    "\n",
    "* Put model into ‘train’ mode:  model.train()\n",
    "* For each 'epoch' of training and ‘batch’ of data:\n",
    "    1. Reset gradient to zero - incase not\n",
    "    2. Predict outputs from inputs\n",
    "    3. Calculate loss (and acuracy if we want to save it)\n",
    "    4. Compute gradients using backpropagation\n",
    "    5. Update parameters\n",
    "    6. Go back to 1.\n",
    " \n",
    "But, to calculate a 'loss' we need ot define an 'loss function' i.e. something to calculate a metic from such as a 'least squares' algorithm etc. \n",
    "\n",
    "We will also need to define an 'optimizer' to tell us how to step about in parameter space - e.g. what should the step-size be when we pick another random value, how far from the starting location can we move in one go?"
   ]
  },
  {
   "cell_type": "code",
   "execution_count": 12,
   "id": "8fdc567b33583c13",
   "metadata": {
    "ExecuteTime": {
     "end_time": "2024-09-27T15:49:29.206990Z",
     "start_time": "2024-09-27T15:49:29.205187Z"
    },
    "id": "8fdc567b33583c13"
   },
   "outputs": [],
   "source": [
    "# common loss function for classification tasks is the CrossEntropyLoss - see below\n",
    "# common stochastic gradient descent optimizer\n",
    "optimizer = optim.Adam(model.parameters(), lr=0.001)\n",
    "# we will assume each batch is a bathc of one and therefore not define it right now\n",
    "# we will train for only 5 epochs"
   ]
  },
  {
   "cell_type": "code",
   "execution_count": 13,
   "id": "6d268bb166ab71b9",
   "metadata": {
    "ExecuteTime": {
     "end_time": "2024-09-27T15:49:49.695926Z",
     "start_time": "2024-09-27T15:49:29.214174Z"
    },
    "colab": {
     "base_uri": "https://localhost:8080/"
    },
    "executionInfo": {
     "elapsed": 59654,
     "status": "ok",
     "timestamp": 1727772590932,
     "user": {
      "displayName": "Becky Canning",
      "userId": "17585554670383182468"
     },
     "user_tz": -60
    },
    "id": "6d268bb166ab71b9",
    "outputId": "d216decd-7a88-4f79-d7c1-15e64b7db8cc"
   },
   "outputs": [],
   "source": [
    "model.train() # model is now in 'train' mode\n",
    "for epoch in range(5):\n",
    "    for images, labels in train_loader:\n",
    "        images, labels = images.to(device), labels.to(device)\n",
    "        optimizer.zero_grad() #reset grdient to zero - 1.\n",
    "        outputs = model(images) # predict outputs from inputs - 2.\n",
    "        loss = nn.CrossEntropyLoss()(outputs, labels) # calculate loss - 3.\n",
    "        loss.backward() # compute gradients using backpropagation - 4.\n",
    "        optimizer.step() # update parameters - 5. \n",
    "        # for loop takes us back to 1."
   ]
  },
  {
   "cell_type": "markdown",
   "id": "b8e0955abafbe41e",
   "metadata": {
    "id": "b8e0955abafbe41e"
   },
   "source": [
    "Now that our model has been trained, we can test it by evaluating our testing data"
   ]
  },
  {
   "cell_type": "code",
   "execution_count": 14,
   "id": "7a7f0bf61d0e2433",
   "metadata": {
    "ExecuteTime": {
     "end_time": "2024-09-27T15:49:50.036711Z",
     "start_time": "2024-09-27T15:49:49.882564Z"
    },
    "id": "7a7f0bf61d0e2433"
   },
   "outputs": [],
   "source": [
    "model.eval()\n",
    "with torch.no_grad():\n",
    "    predictions = model(torch.as_tensor(testing_images, dtype=torch.float).to(device))"
   ]
  },
  {
   "cell_type": "code",
   "execution_count": 15,
   "id": "f9427579-38ce-4a70-958a-9b827464a93e",
   "metadata": {},
   "outputs": [
    {
     "data": {
      "text/plain": [
       "tensor([[-2803.3064,  -936.7518, -1891.0901,  ...,  1855.5331,  -987.2499,\n",
       "           790.9739],\n",
       "        [    8.1451, -1870.8687,  1631.0684,  ..., -2440.6047,    35.5381,\n",
       "         -3042.9631],\n",
       "        [-1588.3403,  1146.7604,   383.8557,  ...,   410.1942,    35.3588,\n",
       "          -631.2771],\n",
       "        ...,\n",
       "        [-2372.1421, -3813.6272, -2304.0859,  ..., -1989.5533, -1604.8468,\n",
       "          -467.1359],\n",
       "        [-1117.9257, -4323.6680, -2991.8772,  ..., -1397.6110,  -352.9908,\n",
       "          -898.5938],\n",
       "        [  522.8438, -3199.8865,  -189.2870,  ..., -2788.1729,  -949.5579,\n",
       "         -3152.5432]], device='cuda:0')"
      ]
     },
     "execution_count": 15,
     "metadata": {},
     "output_type": "execute_result"
    }
   ],
   "source": [
    "predictions"
   ]
  },
  {
   "cell_type": "markdown",
   "id": "69875cfb825fd439",
   "metadata": {
    "id": "69875cfb825fd439"
   },
   "source": [
    "Looking at some of our results. One thing to note about this PyTorch output is that the `predictions` object contains all the probabilities of the possible outputs. If we want to see the most likely output, we will need to take the maximum probable result. (Or add another activation function suchn as a sigmoid to the output layer of our neural network)."
   ]
  },
  {
   "cell_type": "code",
   "execution_count": 16,
   "id": "193694533b59548f",
   "metadata": {
    "ExecuteTime": {
     "end_time": "2024-09-27T15:49:50.358734Z",
     "start_time": "2024-09-27T15:49:50.184977Z"
    },
    "colab": {
     "base_uri": "https://localhost:8080/",
     "height": 245
    },
    "executionInfo": {
     "elapsed": 543,
     "status": "ok",
     "timestamp": 1727770885341,
     "user": {
      "displayName": "Becky Canning",
      "userId": "17585554670383182468"
     },
     "user_tz": -60
    },
    "id": "193694533b59548f",
    "outputId": "20b68c16-8fd1-4762-ab85-74748634f446"
   },
   "outputs": [
    {
     "data": {
      "image/png": "[encoded data removed]",
      "text/plain": [
       "<Figure size 2000x300 with 6 Axes>"
      ]
     },
     "metadata": {},
     "output_type": "display_data"
    }
   ],
   "source": [
    "most_likely_output = predictions.data.max(dim=1)[1].cpu().numpy()\n",
    "\n",
    "fig, axes = plt.subplots(nrows=1, ncols=6, figsize=(20,3))\n",
    "for ax, image, prediction in zip(axes.flatten(), testing_images, most_likely_output):\n",
    "    ax.set_axis_off()\n",
    "    ax.imshow(image, cmap='Greys')\n",
    "    ax.set(title=f\"Prediction: {prediction}\")\n",
    "plt.show()"
   ]
  },
  {
   "cell_type": "markdown",
   "id": "6bf3f31c-dc59-4494-916c-32bea97700a5",
   "metadata": {},
   "source": [
    "### 3. Viewing the results"
   ]
  },
  {
   "cell_type": "markdown",
   "id": "74884a7bf9c3c1d",
   "metadata": {
    "id": "74884a7bf9c3c1d"
   },
   "source": [
    "Below we will simply show a couple of methods of viewing results in a tablified of figure format. \n",
    "\n",
    "A key method here is missing but we will wait till the majinally more advanced method to show it. \n",
    "\n",
    "1. The `classification_report` function from scikit-learn \n",
    "2. The confusion matrix of our PyTorch results"
   ]
  },
  {
   "cell_type": "code",
   "execution_count": 18,
   "id": "522cfd9624fd7a20",
   "metadata": {
    "ExecuteTime": {
     "end_time": "2024-09-27T15:49:50.503312Z",
     "start_time": "2024-09-27T15:49:50.494172Z"
    },
    "colab": {
     "base_uri": "https://localhost:8080/"
    },
    "executionInfo": {
     "elapsed": 12,
     "status": "ok",
     "timestamp": 1727770885342,
     "user": {
      "displayName": "Becky Canning",
      "userId": "17585554670383182468"
     },
     "user_tz": -60
    },
    "id": "522cfd9624fd7a20",
    "outputId": "bda84d15-f005-4fe6-a8c2-937db1876a6e"
   },
   "outputs": [
    {
     "name": "stdout",
     "output_type": "stream",
     "text": [
      "Classification report for PyTorch Model:\n",
      "              precision    recall  f1-score   support\n",
      "\n",
      "           0       0.92      0.98      0.95       980\n",
      "           1       0.95      0.97      0.96      1135\n",
      "           2       0.91      0.91      0.91      1032\n",
      "           3       0.93      0.90      0.91      1010\n",
      "           4       0.94      0.90      0.92       982\n",
      "           5       0.94      0.80      0.87       892\n",
      "           6       0.92      0.96      0.94       958\n",
      "           7       0.93      0.92      0.93      1028\n",
      "           8       0.84      0.92      0.88       974\n",
      "           9       0.89      0.89      0.89      1009\n",
      "\n",
      "    accuracy                           0.92     10000\n",
      "   macro avg       0.92      0.92      0.92     10000\n",
      "weighted avg       0.92      0.92      0.92     10000\n",
      "\n"
     ]
    }
   ],
   "source": [
    "from sklearn import metrics\n",
    "print(f'Classification report for PyTorch Model:\\n{metrics.classification_report(testing_labels, most_likely_output)}')\n"
   ]
  },
  {
   "cell_type": "code",
   "execution_count": 19,
   "id": "2797376e384c9b68",
   "metadata": {
    "ExecuteTime": {
     "end_time": "2024-09-27T15:49:50.731Z",
     "start_time": "2024-09-27T15:49:50.632914Z"
    },
    "colab": {
     "base_uri": "https://localhost:8080/",
     "height": 497
    },
    "executionInfo": {
     "elapsed": 684,
     "status": "ok",
     "timestamp": 1727770886020,
     "user": {
      "displayName": "Becky Canning",
      "userId": "17585554670383182468"
     },
     "user_tz": -60
    },
    "id": "2797376e384c9b68",
    "outputId": "2d115524-57f8-48d1-eef9-d45d57e9d968"
   },
   "outputs": [
    {
     "data": {
      "image/png": "[encoded data removed]",
      "text/plain": [
       "<Figure size 640x480 with 2 Axes>"
      ]
     },
     "metadata": {},
     "output_type": "display_data"
    }
   ],
   "source": [
    "disp = metrics.ConfusionMatrixDisplay.from_predictions(testing_labels, most_likely_output)\n",
    "disp.figure_.suptitle('Confusion Matrix for PyTorch Model')\n",
    "plt.show()"
   ]
  },
  {
   "cell_type": "markdown",
   "id": "ouxKJAu6SeCP",
   "metadata": {
    "id": "ouxKJAu6SeCP"
   },
   "source": [
    "<div class=\"alert alert-block alert-success\"> \n",
    " <strong>Exercises</strong>\n",
    " <br>\n",
    " Try to change some things in both the model and the training (one-by-one) and observe how the results change. \n",
    " <br><br>\n",
    " Hyperparameters of the model to try to change include:\n",
    " <br>\n",
    " <li> Number of neurons in your hidden layers</li>\n",
    " <li> Number of hidden layers</li>\n",
    " <li> Activation function: https://pytorch.org/docs/stable/nn.html#non-linear-activations-weighted-sum-nonlinearity </li>\n",
    " <br>\n",
    " Hyperparameters of the training to try to change include:\n",
    " <br>\n",
    " <li> Number of epochs</li>\n",
    " <li> Loss function</li>\n",
    " <li> Optimizer and/or learning rate and/or step size</li>\n",
    "</div>"
   ]
  },
  {
   "cell_type": "code",
   "execution_count": null,
   "id": "d6c31cde-c378-43cc-8c46-e4ed74a586b7",
   "metadata": {},
   "outputs": [],
   "source": []
  }
 ],
 "metadata": {
  "colab": {
   "provenance": []
  },
  "kernelspec": {
   "display_name": "ml-env",
   "language": "python",
   "name": "ml-env"
  },
  "language_info": {
   "codemirror_mode": {
    "name": "ipython",
    "version": 3
   },
   "file_extension": ".py",
   "mimetype": "text/x-python",
   "name": "python",
   "nbconvert_exporter": "python",
   "pygments_lexer": "ipython3",
   "version": "3.12.5"
  }
 },
 "nbformat": 4,
 "nbformat_minor": 5
}
