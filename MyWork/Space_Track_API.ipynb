{
 "cells": [
  {
   "cell_type": "markdown",
   "id": "a2682037-5554-48c3-b93c-152c1c64212f",
   "metadata": {
    "editable": true,
    "slideshow": {
     "slide_type": ""
    },
    "tags": []
   },
   "source": [
    "## What is an API?\n",
    "\n",
    "API stands for Application Programming Interface, it's a sort of messenger between a server holding some data in a database and a client requesting that data (us). It usually does not matter how things work under the hood of an API so what it does, and how it does it, is no concern of ours! (At least for this tutorial.) The image below shows what we aim to do - create a program that will send API requests to the Space-Track API endpoint, and then receive the information that we have requested. \n"
   ]
  },
  {
   "attachments": {
    "0e6b6151-5d12-4fde-a8e7-35a620c83cf0.png": {
     "image/png": "[encoded data removed]"
    }
   },
   "cell_type": "markdown",
   "id": "475df677-fede-4f4e-b386-c3a7f6377376",
   "metadata": {
    "editable": true,
    "slideshow": {
     "slide_type": ""
    },
    "tags": []
   },
   "source": [
    "![Space_Track_API_Image.png](attachment:0e6b6151-5d12-4fde-a8e7-35a620c83cf0.png)"
   ]
  },
  {
   "cell_type": "code",
   "execution_count": 1,
   "id": "2c23637f-04ba-420d-9326-eed782fb0b53",
   "metadata": {
    "editable": true,
    "slideshow": {
     "slide_type": ""
    },
    "tags": []
   },
   "outputs": [
    {
     "name": "stdout",
     "output_type": "stream",
     "text": [
      "{'CCSDS_OMM_VERS': '3.0', 'COMMENT': 'GENERATED VIA SPACE-TRACK.ORG API', 'CREATION_DATE': '2025-03-13T06:46:17', 'ORIGINATOR': '18 SPCS', 'OBJECT_NAME': 'ELEVATION-1', 'OBJECT_ID': '2025-009BW', 'CENTER_NAME': 'EARTH', 'REF_FRAME': 'TEME', 'TIME_SYSTEM': 'UTC', 'MEAN_ELEMENT_THEORY': 'SGP4', 'EPOCH': '2025-03-13T04:33:47.608704', 'MEAN_MOTION': '15.19389189', 'ECCENTRICITY': '0.00064650', 'INCLINATION': '97.4295', 'RA_OF_ASC_NODE': '153.8900', 'ARG_OF_PERICENTER': '150.2833', 'MEAN_ANOMALY': '209.8770', 'EPHEMERIS_TYPE': '0', 'CLASSIFICATION_TYPE': 'U', 'NORAD_CAT_ID': '62677', 'ELEMENT_SET_NO': '999', 'REV_AT_EPOCH': '6634', 'BSTAR': '0.00183210000000', 'MEAN_MOTION_DOT': '0.00038895', 'MEAN_MOTION_DDOT': '0.0000000000000', 'SEMIMAJOR_AXIS': '6885.822', 'PERIOD': '94.775', 'APOAPSIS': '512.139', 'PERIAPSIS': '503.236', 'OBJECT_TYPE': 'PAYLOAD', 'RCS_SIZE': 'MEDIUM', 'COUNTRY_CODE': 'UK', 'LAUNCH_DATE': '2025-01-14', 'SITE': 'AFWTR', 'DECAY_DATE': None, 'FILE': '4667846', 'GP_ID': '282979118', 'TLE_LINE0': '0 ELEVATION-1', 'TLE_LINE1': '1 62677U 25009BW  25072.19013436  .00038895  00000-0  18321-2 0  9997', 'TLE_LINE2': '2 62677  97.4295 153.8900 0006465 150.2833 209.8770 15.19389189 66341'}\n"
     ]
    }
   ],
   "source": [
    "import requests\n",
    "import json\n",
    "import time\n",
    "import configparser\n",
    "\n",
    "\n",
    "baseURL = \"https://www.space-track.org\"\n",
    "authPath = \"/ajaxauth/login\"\n",
    "\n",
    "config = configparser.ConfigParser()\n",
    "config.read(\"./config.ini\")\n",
    "username = config.get(\"configuration\",\"username\")\n",
    "password = config.get(\"configuration\",\"password\")\n",
    "\n",
    "\n",
    "\n",
    "query = \"/basicspacedata/query/class/gp/COUNTRY_CODE/UK/orderby/COUNTRY_CODE%20asc/limit/100/emptyresult/show\";\n",
    "\n",
    "\n",
    "with requests.Session() as session: # This provides cookie persistance so our login credentials are remembered for the whole session. \n",
    "    \n",
    "    # Send the username and password data to the website.\n",
    "    response = session.post(baseURL + authPath, data = {\"identity\":username, \"password\":password})\n",
    "    \n",
    "    \n",
    "    \n",
    "    # Check whether the website got the data, a status_code of 200 means it did. \n",
    "    if response.status_code != 200:\n",
    "        print(f\"Could not POST for login: {response}\") # f-strings are incredibly convieniant!\n",
    "    \n",
    "    response = session.get(baseURL + query) # Let's get the data.\n",
    "\n",
    "    # Check whether this GET request is valid. \n",
    "    if response.status_code != 200:\n",
    "        print(f\"Could not GET data: {response}\")\n",
    "        \n",
    "    response = json.loads(response.text)\n",
    "   # print(response.keys())\n",
    "\n",
    "    \n",
    "    \n",
    "    print(response[0])\n",
    "    session.close()"
   ]
  },
  {
   "cell_type": "code",
   "execution_count": 2,
   "id": "d7f1dd59-9152-4d38-bcd1-837e256e5635",
   "metadata": {},
   "outputs": [
    {
     "name": "stdout",
     "output_type": "stream",
     "text": [
      "40\n"
     ]
    }
   ],
   "source": [
    "print(len(response[0]))"
   ]
  },
  {
   "cell_type": "code",
   "execution_count": 9,
   "id": "d4616732-2a1b-4273-8b1b-de3732dcd94b",
   "metadata": {},
   "outputs": [
    {
     "name": "stdout",
     "output_type": "stream",
     "text": [
      "['2025-009BW', 0.0006465, 97.4295, 153.89, 150.2833, 15.19389189, 209.877, '2025-03-13T04:33:47.608704', '2025-03-13', '04:33:47.608704']\n"
     ]
    }
   ],
   "source": [
    "satellite_info = []\n",
    "for satellite in response:\n",
    "    \n",
    "    objectID = satellite[\"OBJECT_ID\"]\n",
    "\n",
    "    # We convet the following to floats for later tutorials, where we use the values for neural nets. \n",
    "    ecc = float(satellite[\"ECCENTRICITY\"])\n",
    "    inc = float(satellite[\"INCLINATION\"])\n",
    "    raan = float(satellite[\"RA_OF_ASC_NODE\"])\n",
    "    argP = float(satellite[\"ARG_OF_PERICENTER\"])\n",
    "\n",
    "    meanM =  float(satellite[\"MEAN_MOTION\"])\n",
    "    meanA = float(satellite[\"MEAN_ANOMALY\"])\n",
    "    \n",
    "    epochDate = satellite[\"EPOCH\"].split('T')[0]\n",
    "    epochTime = satellite[\"EPOCH\"].split('T')[1]\n",
    "   \n",
    "    \n",
    "    epoch = satellite[\"EPOCH\"]\n",
    "    \n",
    "    \n",
    "    satellite_info.append([objectID, ecc, inc, raan, argP, meanM, meanA, epoch, epochDate, epochTime])\n",
    "\n",
    "print(satellite_info[0])\n",
    "\n",
    "    "
   ]
  },
  {
   "cell_type": "code",
   "execution_count": 4,
   "id": "44e28604-4f5f-4721-9a68-444a98c77c15",
   "metadata": {},
   "outputs": [
    {
     "name": "stdout",
     "output_type": "stream",
     "text": [
      "100\n"
     ]
    }
   ],
   "source": [
    "print(len(satellite_info))"
   ]
  },
  {
   "cell_type": "code",
   "execution_count": 5,
   "id": "9e008ce4-1da9-44d7-82d7-b16ede5d1292",
   "metadata": {},
   "outputs": [],
   "source": [
    "import csv # We will use a CSV file as it is easier to parse data this way"
   ]
  },
  {
   "cell_type": "code",
   "execution_count": 8,
   "id": "6076d884-8606-46c3-b2aa-60bddf64d3d0",
   "metadata": {},
   "outputs": [],
   "source": [
    "# Creates a csv file with some satellite information\n",
    "with open('Satellite.csv', 'w', newline='') as f:\n",
    "    \n",
    "    writer = csv.writer(f)\n",
    "    x = [\"OBJECT ID\", \"ECCENTRICITY\",\"INCLINATION\",\"RA_OF_ASCENDING_NODE\", \"ARG OF PERICENTRE\", \"MEAN MOTION\", \"MEAN ANOMALY\", \"EPOCH\", \"EPOCH DATE\", \"EPOCH TIME\" ]\n",
    "    writer.writerow(x)\n",
    "    writer.writerows(satellite_info)\n",
    "    "
   ]
  },
  {
   "cell_type": "code",
   "execution_count": null,
   "id": "9478344f-4c9c-4acf-9389-832cb4c6d03d",
   "metadata": {},
   "outputs": [],
   "source": []
  },
  {
   "cell_type": "code",
   "execution_count": null,
   "id": "8e36c9aa-709f-4047-bd1b-57a570eacf3c",
   "metadata": {},
   "outputs": [],
   "source": []
  }
 ],
 "metadata": {
  "kernelspec": {
   "display_name": "Python 13.2 (Pytorch)",
   "language": "python",
   "name": "python-13.2"
  },
  "language_info": {
   "codemirror_mode": {
    "name": "ipython",
    "version": 3
   },
   "file_extension": ".py",
   "mimetype": "text/x-python",
   "name": "python",
   "nbconvert_exporter": "python",
   "pygments_lexer": "ipython3",
   "version": "3.13.2"
  }
 },
 "nbformat": 4,
 "nbformat_minor": 5
}
