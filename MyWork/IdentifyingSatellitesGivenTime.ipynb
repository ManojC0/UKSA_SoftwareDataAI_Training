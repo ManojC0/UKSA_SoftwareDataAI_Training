{
 "cells": [
  {
   "cell_type": "code",
   "execution_count": 33,
   "id": "1fe45d90-d0d3-4259-b7a5-0b1639057a88",
   "metadata": {},
   "outputs": [
    {
     "name": "stdout",
     "output_type": "stream",
     "text": [
      "     OBJECT ID  ECCENTRICITY  INCLINATION  RA_OF_ASCENDING_NODE  \\\n",
      "0   2025-009BW      0.000647      97.4295              153.8900   \n",
      "1    2024-252D      0.722461       7.9890              350.2808   \n",
      "2    2024-252C      0.694106       7.1115              347.6726   \n",
      "3    2024-252B      0.717952       7.9290              348.5734   \n",
      "4    2024-252A      0.747014       8.6922              350.0040   \n",
      "..         ...           ...          ...                   ...   \n",
      "95  2023-029AP      0.000225      87.9068               21.4497   \n",
      "96  2023-029AN      0.000213      87.9208               36.6224   \n",
      "97  2023-029AM      0.000151      87.9334                6.2392   \n",
      "98  2023-029AL      0.000219      87.9207               36.6533   \n",
      "99  2023-029AK      0.000219      87.9075               21.4667   \n",
      "\n",
      "    ARG OF PERICENTRE  MEAN MOTION  MEAN ANOMALY                       EPOCH  \\\n",
      "0            150.2833    15.193892      209.8770  2025-03-13T04:33:47.608704   \n",
      "1            196.0134     1.006886      115.2602  2025-03-07T10:05:35.230560   \n",
      "2            198.7434     0.958384      109.9983  2025-03-12T15:23:43.008864   \n",
      "3            197.7071     0.979034      109.6341  2025-03-12T22:04:19.297056   \n",
      "4            197.5086     1.017778      105.3940  2025-03-12T19:45:10.484928   \n",
      "..                ...          ...           ...                         ...   \n",
      "95            93.6066    13.145023      266.5322  2025-03-12T21:45:48.905856   \n",
      "96            76.9322    13.197254      283.2048  2025-03-12T22:07:48.506880   \n",
      "97            77.6449    13.207713      282.4854  2025-03-12T21:16:14.131488   \n",
      "98            88.4964    13.197250      271.6419  2025-03-12T22:41:55.360896   \n",
      "99            90.5751    13.145015      269.5629  2025-03-12T20:41:52.040832   \n",
      "\n",
      "    EPOCH DATE       EPOCH TIME  \n",
      "0   2025-03-13  04:33:47.608704  \n",
      "1   2025-03-07  10:05:35.230560  \n",
      "2   2025-03-12  15:23:43.008864  \n",
      "3   2025-03-12  22:04:19.297056  \n",
      "4   2025-03-12  19:45:10.484928  \n",
      "..         ...              ...  \n",
      "95  2025-03-12  21:45:48.905856  \n",
      "96  2025-03-12  22:07:48.506880  \n",
      "97  2025-03-12  21:16:14.131488  \n",
      "98  2025-03-12  22:41:55.360896  \n",
      "99  2025-03-12  20:41:52.040832  \n",
      "\n",
      "[100 rows x 10 columns]\n"
     ]
    }
   ],
   "source": [
    "import pandas as pd #  Pandas is useful to handle datasets\n",
    "\n",
    "df = pd.read_csv(\"Satellite.csv\") # df is short for Dataframe\n",
    "print(df) # See what the dataframe looks like"
   ]
  },
  {
   "cell_type": "code",
   "execution_count": 36,
   "id": "9e0ca01b-d8a2-4938-bed5-362f83a0a3be",
   "metadata": {
    "scrolled": true
   },
   "outputs": [
    {
     "name": "stdin",
     "output_type": "stream",
     "text": [
      "Input start date:  2025-03-12\n",
      "Input end date:  2025-03-14\n"
     ]
    },
    {
     "name": "stdout",
     "output_type": "stream",
     "text": [
      "     OBJECT ID  MEAN MOTION  MEAN ANOMALY  EPOCH DATE       EPOCH TIME\n",
      "0   2025-009BW    15.193892      209.8770  2025-03-13  04:33:47.608704\n",
      "8    2024-188S    13.103745      252.1050  2025-03-13  04:20:02.484384\n",
      "10   2024-188Q    13.767497      253.3387  2025-03-13  06:00:02.000160\n",
      "11   2024-188P    13.103765      285.3898  2025-03-13  04:29:38.612544\n",
      "14   2024-188L    13.737165      343.9318  2025-03-13  06:00:02.000160\n",
      "15   2024-188K    13.705825       29.9547  2025-03-13  06:00:02.000160\n",
      "16   2024-188J    13.731674      177.4994  2025-03-13  06:00:02.000160\n",
      "18   2024-188G    13.741105      319.0862  2025-03-13  06:00:02.000160\n",
      "19   2024-188F    13.759159      173.9416  2025-03-13  02:00:01.999872\n",
      "20   2024-188E    13.971749      170.8949  2025-03-13  06:00:02.000160\n",
      "21   2024-188D    13.707831      302.2357  2025-03-13  06:00:02.000160\n",
      "23   2024-188B    14.838404      276.8280  2025-03-13  03:40:42.949632\n",
      "24   2024-188A    13.636899      266.6821  2025-03-13  06:00:02.000160\n",
      "27  2023-174DJ    14.799127      316.2160  2025-03-13  04:06:49.296960\n",
      "31   2023-174C    15.286561      327.5375  2025-03-13  03:49:55.778304\n",
      "32   2023-174B    15.422362      340.9037  2025-03-13  05:13:00.953760\n",
      "34  2023-084BY    14.813040      207.2466  2025-03-13  05:47:48.275808\n",
      "35  2023-084BX    15.156130       19.3462  2025-03-13  05:47:57.879168\n",
      "37   2023-084Y    15.236255      207.4210  2025-03-13  05:15:12.819168\n",
      "44   2023-068K    13.155505      285.3032  2025-03-13  05:22:38.289792\n",
      "54  2023-054AZ    15.095786       82.6598  2025-03-13  05:56:55.508352\n",
      "56   2023-054B    15.488425       34.4856  2025-03-13  05:27:59.912064\n",
      "61  2023-043AH    13.155471      272.9853  2025-03-13  05:29:28.792608\n",
      "63  2023-043AF    13.155475      293.6001  2025-03-13  05:47:43.871136\n",
      "86   2023-043G    13.218258      276.9143  2025-03-13  05:41:20.814144\n",
      "88   2023-043E    13.165967      264.6639  2025-03-13  04:52:50.219328\n",
      "91   2023-043B    13.165953      290.5776  2025-03-13  04:34:36.901632\n",
      "92   2023-043A    13.165963      285.1796  2025-03-13  04:43:43.603680\n"
     ]
    }
   ],
   "source": [
    "start_date = input(\"Input start date: \")\n",
    "end_date = input(\"Input end date: \")\n",
    "\n",
    "mask = (df[\"EPOCH DATE\"] > start_date) & (df[\"EPOCH DATE\"] < end_date) # This is just a filter, or \"mask\", that we will apply to the df. \n",
    "output = df.loc[mask][[\"OBJECT ID\",\"MEAN MOTION\", \"MEAN ANOMALY\", \"EPOCH DATE\", \"EPOCH TIME\"]] # use the filter and output only the desired columns\n",
    "\n",
    "print(output)\n"
   ]
  },
  {
   "cell_type": "code",
   "execution_count": 14,
   "id": "bd13e981-a9ea-439a-ac26-0a862187b3f8",
   "metadata": {},
   "outputs": [
    {
     "name": "stdout",
     "output_type": "stream",
     "text": [
      "There are 28 satellites between 2025-03-12 to 2025-03-15\n"
     ]
    }
   ],
   "source": [
    "print(f\"There are {len(output)} satellites between {start_date} to {end_date}\")"
   ]
  },
  {
   "cell_type": "markdown",
   "id": "3797316f-efe1-4a72-96be-3d5e0abcad0b",
   "metadata": {},
   "source": [
    " ## Exercise: Apply the same logic for the dates to identify the satellites given a timeframe instead.  "
   ]
  },
  {
   "cell_type": "code",
   "execution_count": null,
   "id": "9e2d38fb-1c42-47f4-8ba8-758e67d2d2ad",
   "metadata": {},
   "outputs": [],
   "source": [
    "# Enter code here"
   ]
  },
  {
   "cell_type": "markdown",
   "id": "e04160c8-c6d1-44aa-b3dc-e4fa31315e90",
   "metadata": {},
   "source": [
    "## Where would a satellite be 20 seconds after the epoch time?"
   ]
  },
  {
   "cell_type": "code",
   "execution_count": 38,
   "id": "8ebc3f31-514c-4bef-9919-e3394c90b631",
   "metadata": {},
   "outputs": [
    {
     "name": "stdout",
     "output_type": "stream",
     "text": [
      "Satellite 2025-009BW has a mean_motion of 15.19389189 and a mean_anomaly of 209.877 degrees\n"
     ]
    }
   ],
   "source": [
    "# Setup\n",
    "object_id = \"2025-009BW\"\n",
    "dt = 20 # delta time is 20 seconds\n",
    "mean_motion = df.loc[df[\"OBJECT ID\"] == object_id][\"MEAN MOTION\"][0]\n",
    "mean_anomaly = df.loc[df[\"OBJECT ID\"] == object_id][\"MEAN ANOMALY\"][0]\n",
    "epoch_time = df.loc[df[\"OBJECT ID\"] == object_id][\"EPOCH TIME\"][0]\n",
    "\n",
    "print(f\"Satellite {object_id} has a mean_motion of {mean_motion} and a mean_anomaly of {mean_anomaly} degrees\")"
   ]
  },
  {
   "cell_type": "code",
   "execution_count": 41,
   "id": "356f7a2f-87b8-4dd0-a68e-72380afd55bd",
   "metadata": {},
   "outputs": [
    {
     "name": "stdout",
     "output_type": "stream",
     "text": [
      " The satellite 2025-009BW, 20 seconds after 04:33:47.608704 and with a mean anomaly of 209.877 degrees, will be at 153.755 degrees\n"
     ]
    }
   ],
   "source": [
    "# Calculate the new mean anomaly\n",
    "new_mean_anomaly = round((mean_motion * dt + mean_anomaly) % 360,3)\n",
    "\n",
    "# Output the result!\n",
    "print(f\" The satellite {object_id}, {dt} seconds after {epoch_time} and with a mean anomaly of {mean_anomaly} degrees, will be at {new_mean_anomaly} degrees\")"
   ]
  },
  {
   "cell_type": "code",
   "execution_count": null,
   "id": "6e05177a-e266-4bd3-8b93-221490da25ad",
   "metadata": {},
   "outputs": [],
   "source": []
  },
  {
   "cell_type": "code",
   "execution_count": null,
   "id": "49b2867c-80f1-4f39-87ab-475e1836cbcf",
   "metadata": {},
   "outputs": [],
   "source": []
  }
 ],
 "metadata": {
  "kernelspec": {
   "display_name": "Python 13.2 (Pytorch)",
   "language": "python",
   "name": "python-13.2"
  },
  "language_info": {
   "codemirror_mode": {
    "name": "ipython",
    "version": 3
   },
   "file_extension": ".py",
   "mimetype": "text/x-python",
   "name": "python",
   "nbconvert_exporter": "python",
   "pygments_lexer": "ipython3",
   "version": "3.13.2"
  }
 },
 "nbformat": 4,
 "nbformat_minor": 5
}
